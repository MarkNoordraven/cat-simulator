{
 "cells": [
  {
   "cell_type": "code",
   "execution_count": 2,
   "metadata": {},
   "outputs": [],
   "source": []
  },
  {
   "cell_type": "code",
   "execution_count": null,
   "metadata": {},
   "outputs": [],
   "source": []
  },
  {
   "cell_type": "code",
   "execution_count": 38,
   "metadata": {},
   "outputs": [
    {
     "name": "stdout",
     "output_type": "stream",
     "text": [
      "4\n",
      "5\n",
      "6\n",
      "7\n"
     ]
    }
   ],
   "source": [
    "my_var = 3 # Declare a variable on the global scope\n",
    "def my_function(my_var):\n",
    "     return my_var + 1\n",
    "\n",
    "for i in range(4):\n",
    "    my_var = my_function(my_var) # call the function and assign result to global variable\n",
    "    print(my_var) # check result"
   ]
  },
  {
   "cell_type": "code",
   "execution_count": 57,
   "metadata": {},
   "outputs": [
    {
     "name": "stdout",
     "output_type": "stream",
     "text": [
      "second=0 current_energy=0\n",
      "second=1 current_energy=0\n",
      "second=2 current_energy=0\n",
      "second=3 current_energy=0\n",
      "second=4 current_energy=0\n",
      "second=5 current_energy=0\n",
      "second=6 current_energy=0\n",
      "second=7 current_energy=0\n",
      "second=8 current_energy=0\n",
      "second=9 current_energy=0\n",
      "second=10 current_energy=0\n",
      "second=11 current_energy=0\n",
      "second=12 current_energy=0\n",
      "second=13 current_energy=0\n",
      "second=14 current_energy=0\n",
      "second=15 current_energy=0\n",
      "second=16 current_energy=0\n",
      "second=17 current_energy=0\n",
      "second=18 current_energy=0\n",
      "second=19 current_energy=0\n"
     ]
    }
   ],
   "source": [
    "current_energy = 0 # Declare a variable on the global scope\n",
    "\n",
    "def my_function(second):\n",
    "    global current_energy\n",
    "    if second % 2 == 0:\n",
    "        return current_energy + 20\n",
    "\n",
    "for second in range(20):\n",
    "    my_function(second)\n",
    "    print(f'second={second} current_energy={current_energy}')"
   ]
  },
  {
   "cell_type": "code",
   "execution_count": 77,
   "metadata": {},
   "outputs": [
    {
     "name": "stdout",
     "output_type": "stream",
     "text": [
      " second=0 current_energy=20\n",
      " second=1 current_energy=20\n",
      " second=2 current_energy=40\n",
      " second=3 current_energy=40\n",
      " second=4 current_energy=60\n",
      " second=5 current_energy=60\n",
      " second=6 current_energy=80\n",
      " second=7 current_energy=80\n",
      " second=8 current_energy=100\n",
      " second=9 current_energy=100\n",
      " second=10 current_energy=100\n",
      " second=11 current_energy=100\n",
      " second=12 current_energy=100\n",
      " second=13 current_energy=100\n",
      " second=14 current_energy=100\n",
      " second=15 current_energy=100\n",
      " second=16 current_energy=100\n",
      " second=17 current_energy=100\n",
      " second=18 current_energy=100\n",
      " second=19 current_energy=100\n"
     ]
    }
   ],
   "source": [
    "current_energy = 0\n",
    "def change(): \n",
    "    global current_energy\n",
    "    global second\n",
    "    if second % 2 == 0:\n",
    "        if current_energy + 20 >= 100:\n",
    "            current_energy = max(100,current_energy)\n",
    "        elif current_energy + 20 < 100:\n",
    "            current_energy += 20\n",
    "\n",
    "for second in range(20):\n",
    "    change() \n",
    "    print(f' second={second} current_energy={current_energy}') "
   ]
  }
 ],
 "metadata": {
  "kernelspec": {
   "display_name": "Python 3",
   "language": "python",
   "name": "python3"
  },
  "language_info": {
   "codemirror_mode": {
    "name": "ipython",
    "version": 3
   },
   "file_extension": ".py",
   "mimetype": "text/x-python",
   "name": "python",
   "nbconvert_exporter": "python",
   "pygments_lexer": "ipython3",
   "version": "3.7.1"
  }
 },
 "nbformat": 4,
 "nbformat_minor": 2
}
